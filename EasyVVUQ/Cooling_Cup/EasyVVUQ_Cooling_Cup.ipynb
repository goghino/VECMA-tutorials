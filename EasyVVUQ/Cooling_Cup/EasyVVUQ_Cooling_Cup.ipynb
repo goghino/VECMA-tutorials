{
 "cells": [
  {
   "cell_type": "markdown",
   "metadata": {
    "colab_type": "text",
    "id": "ugDD5kSbAtw_"
   },
   "source": [
    "# Installing EasyVVUQ\n",
    "\n",
    "This example is based on https://github.com/vecma-project/VECMA-tutorials/blob/master/EasyVVUQ/Cooling_Cup/EasyVVUQ_Cooling_Cup.ipynb and was updated based on the latest EasyVVUQ interface available at https://github.com/UCL-CCS/EasyVVUQ/blob/dev/tutorials/easyvvuq_pce_tutorial.py\n",
    "\n",
    "Before we do anything else we need to install EasyVVUQ for use in this notebook. Note that `easyvvuq v1.0` is assumed."
   ]
  },
  {
   "cell_type": "code",
   "execution_count": 1,
   "metadata": {
    "colab": {},
    "colab_type": "code",
    "id": "We-D7yY3H1ds"
   },
   "outputs": [
    {
     "name": "stdout",
     "output_type": "stream",
     "text": [
      "# packages in environment at /Users/Juraj/anaconda3/envs/easy_vvuq:\n",
      "#\n",
      "# Name                    Version                   Build  Channel\n",
      "anyio                     3.3.0            py39h6e9494a_0    conda-forge\n",
      "appnope                   0.1.2            py39h6e9494a_1    conda-forge\n",
      "argon2-cffi               20.1.0           py39h89e85a6_2    conda-forge\n",
      "async_generator           1.10                       py_0    conda-forge\n",
      "attrs                     21.2.0             pyhd8ed1ab_0    conda-forge\n",
      "autopep8                  1.5.7                    pypi_0    pypi\n",
      "babel                     2.9.1              pyh44b312d_0    conda-forge\n",
      "backcall                  0.2.0              pyh9f0ad1d_0    conda-forge\n",
      "backports                 1.0                        py_2    conda-forge\n",
      "backports.functools_lru_cache 1.6.4              pyhd8ed1ab_0    conda-forge\n",
      "bleach                    4.1.0              pyhd8ed1ab_0    conda-forge\n",
      "bokeh                     2.3.3                    pypi_0    pypi\n",
      "brotlipy                  0.7.0           py39h89e85a6_1001    conda-forge\n",
      "ca-certificates           2021.5.30            h033912b_0    conda-forge\n",
      "cachetools                4.2.2                    pypi_0    pypi\n",
      "cerberus                  1.3.4                    pypi_0    pypi\n",
      "certifi                   2021.5.30        py39h6e9494a_0    conda-forge\n",
      "cffi                      1.14.6           py39hb71fe58_0    conda-forge\n",
      "chaospy                   4.3.2                    pypi_0    pypi\n",
      "chardet                   4.0.0            py39h6e9494a_1    conda-forge\n",
      "charset-normalizer        2.0.4                    pypi_0    pypi\n",
      "click                     8.0.1                    pypi_0    pypi\n",
      "cloudpickle               1.6.0                    pypi_0    pypi\n",
      "cryptography              3.4.7            py39ha2c9959_0    conda-forge\n",
      "cycler                    0.10.0                   pypi_0    pypi\n",
      "dask                      2021.9.0                 pypi_0    pypi\n",
      "dask-jobqueue             0.7.3                    pypi_0    pypi\n",
      "decorator                 5.0.9              pyhd8ed1ab_0    conda-forge\n",
      "defusedxml                0.7.1              pyhd8ed1ab_0    conda-forge\n",
      "dill                      0.3.4                    pypi_0    pypi\n",
      "distributed               2021.9.0                 pypi_0    pypi\n",
      "easyvvuq                  1.0                      pypi_0    pypi\n",
      "entrypoints               0.3             pyhd8ed1ab_1003    conda-forge\n",
      "execnet                   1.9.0                    pypi_0    pypi\n",
      "fsspec                    2021.8.1                 pypi_0    pypi\n",
      "google-auth               2.0.2                    pypi_0    pypi\n",
      "greenlet                  1.1.1                    pypi_0    pypi\n",
      "heapdict                  1.0.1                    pypi_0    pypi\n",
      "idna                      3.2                      pypi_0    pypi\n",
      "importlib-metadata        4.8.1            py39h6e9494a_0    conda-forge\n",
      "iniconfig                 1.1.1                    pypi_0    pypi\n",
      "ipykernel                 5.5.5            py39h71a6800_0    conda-forge\n",
      "ipython                   7.27.0           py39h71a6800_0    conda-forge\n",
      "ipython_genutils          0.2.0                      py_1    conda-forge\n",
      "jedi                      0.18.0           py39h6e9494a_2    conda-forge\n",
      "jinja2                    3.0.1              pyhd8ed1ab_0    conda-forge\n",
      "joblib                    1.0.1                    pypi_0    pypi\n",
      "json5                     0.9.5              pyh9f0ad1d_0    conda-forge\n",
      "jsonschema                3.2.0              pyhd8ed1ab_3    conda-forge\n",
      "jupyter_client            7.0.2              pyhd8ed1ab_0    conda-forge\n",
      "jupyter_core              4.7.1            py39h6e9494a_0    conda-forge\n",
      "jupyter_server            1.10.2             pyhd8ed1ab_0    conda-forge\n",
      "jupyterlab                3.1.10             pyhd8ed1ab_0    conda-forge\n",
      "jupyterlab_pygments       0.1.2              pyh9f0ad1d_0    conda-forge\n",
      "jupyterlab_server         2.7.2              pyhd8ed1ab_0    conda-forge\n",
      "kiwisolver                1.3.2                    pypi_0    pypi\n",
      "kubernetes                18.20.0                  pypi_0    pypi\n",
      "libcxx                    10.0.0                        1  \n",
      "libffi                    3.3                  hb1e8313_2  \n",
      "libsodium                 1.0.18               hbcb3906_1    conda-forge\n",
      "locket                    0.2.1                    pypi_0    pypi\n",
      "markupsafe                2.0.1            py39h89e85a6_0    conda-forge\n",
      "matplotlib                3.4.3                    pypi_0    pypi\n",
      "matplotlib-inline         0.1.2              pyhd8ed1ab_2    conda-forge\n",
      "mistune                   0.8.4           py39h89e85a6_1004    conda-forge\n",
      "msgpack                   1.0.2                    pypi_0    pypi\n",
      "multiprocess              0.70.12.2                pypi_0    pypi\n",
      "nbclassic                 0.3.1              pyhd8ed1ab_1    conda-forge\n",
      "nbclient                  0.5.4              pyhd8ed1ab_0    conda-forge\n",
      "nbconvert                 6.1.0            py39h6e9494a_0    conda-forge\n",
      "nbformat                  5.1.3              pyhd8ed1ab_0    conda-forge\n",
      "ncurses                   6.2                  h0a44026_1  \n",
      "nest-asyncio              1.5.1              pyhd8ed1ab_0    conda-forge\n",
      "notebook                  6.4.3              pyha770c72_0    conda-forge\n",
      "numpoly                   1.1.3                    pypi_0    pypi\n",
      "numpy                     1.21.2                   pypi_0    pypi\n",
      "oauthlib                  3.1.1                    pypi_0    pypi\n",
      "openssl                   1.1.1l               h0d85af4_0    conda-forge\n",
      "packaging                 21.0               pyhd8ed1ab_0    conda-forge\n",
      "pandas                    1.3.2                    pypi_0    pypi\n",
      "pandoc                    2.14.2               h0d85af4_0    conda-forge\n",
      "pandocfilters             1.4.2                      py_1    conda-forge\n",
      "parso                     0.8.2              pyhd8ed1ab_0    conda-forge\n",
      "partd                     1.2.0                    pypi_0    pypi\n",
      "pathos                    0.2.8                    pypi_0    pypi\n",
      "pep8                      1.7.1                    pypi_0    pypi\n",
      "pexpect                   4.8.0              pyh9f0ad1d_2    conda-forge\n",
      "pickleshare               0.7.5                   py_1003    conda-forge\n",
      "pillow                    8.3.2                    pypi_0    pypi\n",
      "pip                       21.2.4           py37hecd8cb5_0  \n",
      "pluggy                    1.0.0                    pypi_0    pypi\n",
      "pox                       0.3.0                    pypi_0    pypi\n",
      "ppft                      1.6.6.4                  pypi_0    pypi\n",
      "prometheus_client         0.11.0             pyhd8ed1ab_0    conda-forge\n",
      "prompt-toolkit            3.0.20             pyha770c72_0    conda-forge\n",
      "psutil                    5.8.0                    pypi_0    pypi\n",
      "ptyprocess                0.7.0              pyhd3deb0d_0    conda-forge\n",
      "py                        1.10.0                   pypi_0    pypi\n",
      "py-cpuinfo                8.0.0                    pypi_0    pypi\n",
      "pyasn1                    0.4.8                    pypi_0    pypi\n",
      "pyasn1-modules            0.2.8                    pypi_0    pypi\n",
      "pycodestyle               2.7.0                    pypi_0    pypi\n",
      "pycparser                 2.20               pyh9f0ad1d_2    conda-forge\n",
      "pygments                  2.10.0             pyhd8ed1ab_0    conda-forge\n",
      "pyopenssl                 20.0.1             pyhd8ed1ab_0    conda-forge\n",
      "pyparsing                 2.4.7              pyh9f0ad1d_0    conda-forge\n",
      "pyrsistent                0.17.3           py39h89e85a6_2    conda-forge\n",
      "pysocks                   1.7.1            py39h6e9494a_3    conda-forge\n",
      "pytest                    6.2.5                    pypi_0    pypi\n",
      "pytest-benchmark          3.4.1                    pypi_0    pypi\n",
      "pytest-cache              1.0                      pypi_0    pypi\n",
      "pytest-dependency         0.5.1                    pypi_0    pypi\n",
      "pytest-pep8               1.0.6                    pypi_0    pypi\n",
      "python                    3.9.6                h88f2d9e_1  \n",
      "python-dateutil           2.8.2              pyhd8ed1ab_0    conda-forge\n",
      "python_abi                3.9                      2_cp39    conda-forge\n",
      "pytz                      2021.1             pyhd8ed1ab_0    conda-forge\n",
      "pyyaml                    5.4.1                    pypi_0    pypi\n",
      "pyzmq                     22.2.1           py39h23ab428_1  \n",
      "qcg-pilotjob              0.12.2                   pypi_0    pypi\n",
      "qcg-pilotjob-executor-api 0.12.2                   pypi_0    pypi\n",
      "readline                  8.1                  h9ed2024_0  \n",
      "requests                  2.26.0             pyhd8ed1ab_0    conda-forge\n",
      "requests-oauthlib         1.3.0                    pypi_0    pypi\n",
      "requests-unixsocket       0.2.0                      py_0    conda-forge\n",
      "rsa                       4.7.2                    pypi_0    pypi\n",
      "salib                     1.4.5                    pypi_0    pypi\n",
      "scikit-learn              0.24.2                   pypi_0    pypi\n",
      "scipy                     1.7.1                    pypi_0    pypi\n",
      "send2trash                1.8.0              pyhd8ed1ab_0    conda-forge\n",
      "setuptools                52.0.0           py39hecd8cb5_0  \n",
      "six                       1.16.0             pyh6c4a22f_0    conda-forge\n",
      "sniffio                   1.2.0            py39h6e9494a_1    conda-forge\n",
      "sortedcontainers          2.4.0                    pypi_0    pypi\n",
      "sqlalchemy                1.4.23                   pypi_0    pypi\n",
      "sqlite                    3.36.0               hce871da_0  \n",
      "squarify                  0.4.3                    pypi_0    pypi\n",
      "tblib                     1.7.0                    pypi_0    pypi\n",
      "terminado                 0.11.1           py39h6e9494a_0    conda-forge\n",
      "testpath                  0.5.0              pyhd8ed1ab_0    conda-forge\n",
      "threadpoolctl             2.2.0                    pypi_0    pypi\n",
      "tk                        8.6.10               hb0a8c7a_0  \n",
      "toml                      0.10.2                   pypi_0    pypi\n",
      "toolz                     0.11.1                   pypi_0    pypi\n",
      "tornado                   6.1              py39h89e85a6_1    conda-forge\n",
      "tqdm                      4.62.2                   pypi_0    pypi\n",
      "traitlets                 5.1.0              pyhd8ed1ab_0    conda-forge\n",
      "typing-extensions         3.10.0.2                 pypi_0    pypi\n",
      "tzdata                    2021a                h5d7bf9c_0  \n",
      "urllib3                   1.26.6             pyhd8ed1ab_0    conda-forge\n",
      "wcwidth                   0.2.5              pyh9f0ad1d_2    conda-forge\n",
      "webencodings              0.5.1                      py_1    conda-forge\n",
      "websocket-client          1.2.1                    pypi_0    pypi\n",
      "wheel                     0.37.0             pyhd3eb1b0_0  \n",
      "xz                        5.2.5                h1de35cc_0  \n",
      "zeromq                    4.3.4                h23ab428_0  \n",
      "zict                      2.0.0                    pypi_0    pypi\n",
      "zipp                      3.5.0              pyhd8ed1ab_0    conda-forge\n",
      "zlib                      1.2.11               h1de35cc_3  \n",
      "zmq                       0.0.0                    pypi_0    pypi\n"
     ]
    }
   ],
   "source": [
    "!conda list"
   ]
  },
  {
   "cell_type": "markdown",
   "metadata": {
    "colab_type": "text",
    "id": "O5RXyRXm4tIf"
   },
   "source": [
    "$$\n",
    "\\def\\CC{\\bf C}\n",
    "\\def\\QQ{\\bf Q}\n",
    "\\def\\RR{\\bf R}\n",
    "\\def\\ZZ{\\bf Z}\n",
    "\\def\\NN{\\bf N}\n",
    "$$\n",
    "# A Cooling Coffee Cup with Polynomial Chaos Expansion\n",
    "\n",
    "In this tutorial we will perform a Polynomial Chaos Expansion for a\n",
    "model of a cooling coffee cup. The model uses Newton's law of cooling to\n",
    "evolve the temperature, $T$, over time ($t$) in an environment at\n",
    "$T_{env}$ :\n",
    "\n",
    "$$\\frac{dT(t)}{dt} = -\\kappa (T(t) -T_{env})$$\n",
    "\n",
    "The constant $\\kappa$ characterizes the rate at which the coffee cup\n",
    "transfers heat to the environment. In this example we will analyze this\n",
    "model using the polynomial chaos expansion (PCE) UQ algorithm. We will\n",
    "use a constant initial temperature $T_0 = 95 ^\\circ\\text{C}$, and vary\n",
    "$\\kappa$ and $T_{env}$ using a uniform distribution in the ranges\n",
    "$0.025-0.075$ and $15-25$ respectively.\n",
    "\n",
    "The model was implemented as a Python script. But your code does not have to be written in Python and is indeed not expected to be. \n",
    "\n",
    "## EasyVVUQ Script Overview\n",
    "\n",
    "We illustrate the intended workflow using the following basic example\n",
    "script, a python implementation of the cooling coffee cup model used in\n",
    "the textit{uncertainpy} documentation (code for which is in the\n",
    "tests/cooling/ subdirectory of the EasyVVUQ distribution directory). The\n",
    "code takes a small key/value pair input and outputs a comma separated\n",
    "value CSV) file.\n",
    "\n",
    "The input files for this tutorial are the *cooling\\_model* application\n",
    "(`cooling_model.py <tutorial_files/cooling_model.py>`), an input\n",
    "template (`cooling.template <tutorial_files/cooling.template>`) and the\n",
    "EasyVVUQ workflow script\n",
    "(`easyvvuq_pce_tutorial.py <tutorial_files/easyvvuq_pce_tutorial.py>`)."
   ]
  },
  {
   "cell_type": "markdown",
   "metadata": {
    "colab_type": "text",
    "id": "zkWCN7Pe6GJB"
   },
   "source": [
    "## Set-up\n",
    "\n",
    "For this example we import both easyvvuq and chaospy (for the\n",
    "distributions). EasyVVUQ will be referred to as 'uq' in the code. :"
   ]
  },
  {
   "cell_type": "code",
   "execution_count": 6,
   "metadata": {
    "colab": {},
    "colab_type": "code",
    "id": "Yd2XHwIE4tIg"
   },
   "outputs": [],
   "source": [
    "import easyvvuq as uq\n",
    "import chaospy as cp\n",
    "import os\n",
    "from shutil import rmtree"
   ]
  },
  {
   "cell_type": "markdown",
   "metadata": {
    "colab_type": "text",
    "id": "uhwgG1Wc4tIj"
   },
   "source": [
    "## Create a new Campaign\n",
    "\n",
    "We start by creating an\n",
    "EasyVVUQ Campaign. Here we call it 'coffee\\_pce'. :"
   ]
  },
  {
   "cell_type": "code",
   "execution_count": 8,
   "metadata": {},
   "outputs": [],
   "source": [
    "work_dir = \"/Users/Juraj/Documents/DXT/VECMA-tutorials-fork/EasyVVUQ/Cooling_Cup/\"\n",
    "campaign_work_dir = os.path.join(work_dir, \"easyvvuq_tutorial\")\n",
    "# clear the target campaign dir\n",
    "if os.path.exists(campaign_work_dir):\n",
    "    rmtree(campaign_work_dir)\n",
    "os.makedirs(campaign_work_dir)"
   ]
  },
  {
   "cell_type": "code",
   "execution_count": 9,
   "metadata": {
    "colab": {},
    "colab_type": "code",
    "id": "Cf5cFQXr4tIj"
   },
   "outputs": [
    {
     "name": "stdout",
     "output_type": "stream",
     "text": [
      "db_location = sqlite:////Users/Juraj/Documents/DXT/VECMA-tutorials-fork/EasyVVUQ/Cooling_Cup/easyvvuq_tutorial/campaign.db\n",
      "active_sampler_id = None\n",
      "campaign_name = coffee_pce\n",
      "campaign_dir = /Users/Juraj/Documents/DXT/VECMA-tutorials-fork/EasyVVUQ/Cooling_Cup/easyvvuq_tutorial/coffee_pceph4gviyk\n",
      "campaign_id = 1\n",
      "\n"
     ]
    }
   ],
   "source": [
    "db_location = \"sqlite:///\" + campaign_work_dir + \"/campaign.db\"\n",
    "my_campaign = uq.Campaign(name='coffee_pce', db_location=db_location, work_dir=campaign_work_dir)\n",
    "print(my_campaign)"
   ]
  },
  {
   "cell_type": "markdown",
   "metadata": {
    "colab_type": "text",
    "id": "DgnFaMSP4tIn"
   },
   "source": [
    "## Parameter space definition\n",
    "\n",
    "The parameter space is defined using a dictionary. Each entry in the\n",
    "dictionary follows the format:\n",
    "\n",
    "`\"parameter_name\": {\"type\" : \"<value>\", \"min\": <value>, \"max\": <value>, \"default\": <value>}`\n",
    "\n",
    "With a defined type, minimum and maximum value and default. If the\n",
    "parameter is not selected to vary in the Sampler (see below) then the\n",
    "default value is used for every run. In this example, our full parameter\n",
    "space looks like the following: :"
   ]
  },
  {
   "cell_type": "code",
   "execution_count": 10,
   "metadata": {
    "colab": {},
    "colab_type": "code",
    "id": "bHHJZWbf4tIo"
   },
   "outputs": [],
   "source": [
    "params = {\n",
    "    \"temp_init\": {\"type\": \"float\", \"min\": 0.0, \"max\": 100.0, \"default\": 95.0},\n",
    "    \"kappa\": {\"type\": \"float\", \"min\": 0.0, \"max\": 0.1, \"default\": 0.025},\n",
    "    \"t_env\": {\"type\": \"float\", \"min\": 0.0, \"max\": 40.0, \"default\": 15.0},\n",
    "    \"out_file\": {\"type\": \"string\", \"default\": \"output.csv\"}\n",
    "}"
   ]
  },
  {
   "cell_type": "markdown",
   "metadata": {
    "colab_type": "text",
    "id": "sW-haeK24tIq"
   },
   "source": [
    "## App Creation\n",
    "\n",
    "In this example the GenericEncoder and SimpleCSV, both included in the\n",
    "core EasyVVUQ library, were used as the encoder/decoder pair for this\n",
    "application. :"
   ]
  },
  {
   "cell_type": "code",
   "execution_count": 11,
   "metadata": {
    "colab": {},
    "colab_type": "code",
    "id": "nHx45Wks4tIq"
   },
   "outputs": [],
   "source": [
    "from pathlib import Path\n",
    "\n",
    "encoder = uq.encoders.GenericEncoder(\n",
    "    template_fname=\"cooling.template\",\n",
    "    delimiter=\"$\",\n",
    "    target_filename=\"cooling_in.json\"\n",
    ")\n",
    "\n",
    "decoder = uq.decoders.SimpleCSV(\n",
    "    target_filename=\"output.csv\",\n",
    "    output_columns=[\"te\"]\n",
    ")"
   ]
  },
  {
   "cell_type": "code",
   "execution_count": 12,
   "metadata": {},
   "outputs": [],
   "source": [
    "execute = uq.actions.ExecuteLocal(\n",
    "    \"python3 {}/cooling_model.py cooling_in.json\".format(work_dir)\n",
    ")"
   ]
  },
  {
   "cell_type": "code",
   "execution_count": 13,
   "metadata": {},
   "outputs": [],
   "source": [
    "actions = uq.actions.Actions(\n",
    "    uq.actions.CreateRunDirectory(root=campaign_work_dir, flatten=True),\n",
    "    uq.actions.Encode(encoder),\n",
    "    execute,\n",
    "    uq.actions.Decode(decoder)\n",
    ")"
   ]
  },
  {
   "cell_type": "markdown",
   "metadata": {
    "colab_type": "text",
    "id": "-4HKkpZP4tIv"
   },
   "source": [
    "GenericEncoder performs simple text substitution into a supplied\n",
    "template, using a specified delimiter to identify where parameters\n",
    "should be placed. The template is shown below (\\$ is used as the\n",
    "delimiter). The template substitution approach is likely to suit most\n",
    "simple applications but in practice many large applications have more\n",
    "complex requirements, for example the multiple input files or the\n",
    "creation of a directory hierarchy. In such cases, users may write their\n",
    "own encoders by extending the BaseEncoder class. :"
   ]
  },
  {
   "cell_type": "code",
   "execution_count": null,
   "metadata": {
    "colab": {},
    "colab_type": "code",
    "id": "FXcdBc0B4tIv"
   },
   "outputs": [],
   "source": [
    "{\n",
    "   \"T0\":\"$temp_init\",\n",
    "   \"kappa\":\"$kappa\",\n",
    "   \"t_env\":\"$t_env\",\n",
    "   \"out_file\":\"$out_file\"\n",
    "}"
   ]
  },
  {
   "cell_type": "markdown",
   "metadata": {
    "colab_type": "text",
    "id": "uEig_muB4tIx"
   },
   "source": [
    "As can be inferred from its name SimpleCSV reads CVS files produced by\n",
    "the cooling model code. Again many applications output results in\n",
    "different formats, potentially requiring bespoke Decoders. Having\n",
    "created an encoder, decoder and parameter space definition for our\n",
    "$cooling$ app, we can add it to our campaign. :"
   ]
  },
  {
   "cell_type": "code",
   "execution_count": 14,
   "metadata": {
    "colab": {},
    "colab_type": "code",
    "id": "Ftd-tq6a4tIx"
   },
   "outputs": [],
   "source": [
    "# Add the app (automatically set as current app)\n",
    "my_campaign.add_app(\n",
    "    name=\"cooling\",\n",
    "    params=params,\n",
    "    actions=actions\n",
    ")"
   ]
  },
  {
   "cell_type": "markdown",
   "metadata": {
    "colab_type": "text",
    "id": "EBUKUTyL4tIz"
   },
   "source": [
    "## The Sampler\n",
    "\n",
    "The user specified which parameters will vary and their corresponding\n",
    "distributions. In this case the kappa and t\\_env parameters are varied,\n",
    "both according to a uniform distribution: :"
   ]
  },
  {
   "cell_type": "code",
   "execution_count": 15,
   "metadata": {
    "colab": {},
    "colab_type": "code",
    "id": "skA-fE-c4tI0"
   },
   "outputs": [],
   "source": [
    "vary = {\n",
    "    \"kappa\": cp.Uniform(0.025, 0.075),\n",
    "    \"t_env\": cp.Uniform(15, 25)\n",
    "}"
   ]
  },
  {
   "cell_type": "markdown",
   "metadata": {
    "colab_type": "text",
    "id": "2yMnJxEV4tI2"
   },
   "source": [
    "To perform a polynomial chaos expansion we will create a PCESampler,\n",
    "informing it which parameters to vary, and what polynomial rder to use\n",
    "for the PCE. :"
   ]
  },
  {
   "cell_type": "code",
   "execution_count": 16,
   "metadata": {
    "colab": {},
    "colab_type": "code",
    "id": "1eDGvW3J4tI2"
   },
   "outputs": [],
   "source": [
    "my_sampler = uq.sampling.PCESampler(vary=vary, polynomial_order=3)"
   ]
  },
  {
   "cell_type": "markdown",
   "metadata": {
    "colab_type": "text",
    "id": "snnsrp174tI4"
   },
   "source": [
    "Finally we set the campaign to use this sampler. :"
   ]
  },
  {
   "cell_type": "code",
   "execution_count": 17,
   "metadata": {
    "colab": {},
    "colab_type": "code",
    "id": "E-Ruh53E4tI5"
   },
   "outputs": [],
   "source": [
    "my_campaign.set_sampler(my_sampler)"
   ]
  },
  {
   "cell_type": "markdown",
   "metadata": {
    "colab_type": "text",
    "id": "IIDKFbhQ4tI7"
   },
   "source": [
    "Calling the campaign's draw\\_samples() method will cause the specified\n",
    "number of samples to be added as runs to the campaign database, awaiting\n",
    "encoding and execution. If no arguments are passed to draw\\_samples()\n",
    "then all samples will be drawn, unless the sampler is not finite. In\n",
    "this case PCESampler is finite (produces a finite number of samples) and\n",
    "we elect to draw all of them at once: :"
   ]
  },
  {
   "cell_type": "code",
   "execution_count": 18,
   "metadata": {
    "colab": {},
    "colab_type": "code",
    "id": "RD5cupoa4tI7"
   },
   "outputs": [
    {
     "data": {
      "text/plain": [
       "[{'kappa': 0.028471592210148697,\n",
       "  't_env': 15.694318442029738,\n",
       "  'temp_init': 95.0,\n",
       "  'out_file': 'output.csv'},\n",
       " {'kappa': 0.028471592210148697,\n",
       "  't_env': 18.30009478207572,\n",
       "  'temp_init': 95.0,\n",
       "  'out_file': 'output.csv'},\n",
       " {'kappa': 0.028471592210148697,\n",
       "  't_env': 21.699905217924275,\n",
       "  'temp_init': 95.0,\n",
       "  'out_file': 'output.csv'},\n",
       " {'kappa': 0.028471592210148697,\n",
       "  't_env': 24.305681557970267,\n",
       "  'temp_init': 95.0,\n",
       "  'out_file': 'output.csv'},\n",
       " {'kappa': 0.0415004739103786,\n",
       "  't_env': 15.694318442029738,\n",
       "  'temp_init': 95.0,\n",
       "  'out_file': 'output.csv'},\n",
       " {'kappa': 0.0415004739103786,\n",
       "  't_env': 18.30009478207572,\n",
       "  'temp_init': 95.0,\n",
       "  'out_file': 'output.csv'},\n",
       " {'kappa': 0.0415004739103786,\n",
       "  't_env': 21.699905217924275,\n",
       "  'temp_init': 95.0,\n",
       "  'out_file': 'output.csv'},\n",
       " {'kappa': 0.0415004739103786,\n",
       "  't_env': 24.305681557970267,\n",
       "  'temp_init': 95.0,\n",
       "  'out_file': 'output.csv'},\n",
       " {'kappa': 0.05849952608962141,\n",
       "  't_env': 15.694318442029738,\n",
       "  'temp_init': 95.0,\n",
       "  'out_file': 'output.csv'},\n",
       " {'kappa': 0.05849952608962141,\n",
       "  't_env': 18.30009478207572,\n",
       "  'temp_init': 95.0,\n",
       "  'out_file': 'output.csv'},\n",
       " {'kappa': 0.05849952608962141,\n",
       "  't_env': 21.699905217924275,\n",
       "  'temp_init': 95.0,\n",
       "  'out_file': 'output.csv'},\n",
       " {'kappa': 0.05849952608962141,\n",
       "  't_env': 24.305681557970267,\n",
       "  'temp_init': 95.0,\n",
       "  'out_file': 'output.csv'},\n",
       " {'kappa': 0.07152840778985131,\n",
       "  't_env': 15.694318442029738,\n",
       "  'temp_init': 95.0,\n",
       "  'out_file': 'output.csv'},\n",
       " {'kappa': 0.07152840778985131,\n",
       "  't_env': 18.30009478207572,\n",
       "  'temp_init': 95.0,\n",
       "  'out_file': 'output.csv'},\n",
       " {'kappa': 0.07152840778985131,\n",
       "  't_env': 21.699905217924275,\n",
       "  'temp_init': 95.0,\n",
       "  'out_file': 'output.csv'},\n",
       " {'kappa': 0.07152840778985131,\n",
       "  't_env': 24.305681557970267,\n",
       "  'temp_init': 95.0,\n",
       "  'out_file': 'output.csv'}]"
      ]
     },
     "execution_count": 18,
     "metadata": {},
     "output_type": "execute_result"
    }
   ],
   "source": [
    "my_campaign.draw_samples()"
   ]
  },
  {
   "cell_type": "markdown",
   "metadata": {
    "colab_type": "text",
    "id": "oUMfmupj4tI-",
    "tags": []
   },
   "source": [
    "## Execute Runs and Collation\n",
    "\n",
    "my\\_campaign.populate\\_runs\\_dir() will create a directory hierarchy\n",
    "containing the encoded input files for every run that has not yet been\n",
    "completed.\n",
    "\n",
    "Calling my\\_campaign.collate() at any stage causes the campaign to\n",
    "aggregate decoded simulation output for all runs which have not yet been\n",
    "collated. :"
   ]
  },
  {
   "cell_type": "code",
   "execution_count": 20,
   "metadata": {},
   "outputs": [],
   "source": [
    "my_campaign.execute().collate()"
   ]
  },
  {
   "cell_type": "markdown",
   "metadata": {
    "colab_type": "text",
    "id": "nhtEXW0m4tJB"
   },
   "source": [
    "## Analysis\n",
    "\n",
    "This collated data is stored in the campaign database. An analysis\n",
    "element, here PCEAnalysis, can then be applied to the campaign's\n",
    "collation result. :"
   ]
  },
  {
   "cell_type": "code",
   "execution_count": 21,
   "metadata": {},
   "outputs": [],
   "source": [
    "# Post-processing analysis\n",
    "my_analysis = uq.analysis.PCEAnalysis(sampler=my_sampler, qoi_cols=[\"te\"])\n",
    "my_campaign.apply_analysis(my_analysis)"
   ]
  },
  {
   "cell_type": "markdown",
   "metadata": {
    "colab_type": "text",
    "id": "rGgiN7cA4tJF"
   },
   "source": [
    "The output of the analysis can be next queried in order to get detailed statistics:"
   ]
  },
  {
   "cell_type": "code",
   "execution_count": 28,
   "metadata": {
    "colab": {},
    "colab_type": "code",
    "id": "-TvW8CIj4tJG"
   },
   "outputs": [],
   "source": [
    "# Get Descriptive Statistics\n",
    "results = my_campaign.get_last_analysis()\n",
    "mean = results.describe(\"te\", \"mean\")\n",
    "std = results.describe(\"te\", \"var\")\n",
    "p10 = results.describe(\"te\", \"10%\")\n",
    "p90 = results.describe(\"te\", \"90%\")\n",
    "\n",
    "s1_kappa = results._get_sobols_first('te', 'kappa')\n",
    "s1_t_env = results._get_sobols_first('te', 't_env')\n",
    "\n",
    "\n",
    "#print(f'Mean:\\n{mean}')\n",
    "#print(f'Std:\\n{std}')\n",
    "#print(f'p10:\\n{p10}')\n",
    "#print(f'p90:\\n{p90}')"
   ]
  },
  {
   "cell_type": "markdown",
   "metadata": {
    "colab_type": "text",
    "id": "XxFsGUPdQma0"
   },
   "source": [
    "## I want to see how the results might look:\n",
    "\n",
    "\n",
    "\n"
   ]
  },
  {
   "cell_type": "code",
   "execution_count": 29,
   "metadata": {
    "colab": {},
    "colab_type": "code",
    "id": "ueHQBoSxRMjq"
   },
   "outputs": [
    {
     "data": {
      "image/png": "[encoded data removed]",
      "text/plain": [
       "<Figure size 1152x432 with 3 Axes>"
      ]
     },
     "metadata": {
      "needs_background": "light"
     },
     "output_type": "display_data"
    }
   ],
   "source": [
    "import matplotlib.pyplot as plt\n",
    "import numpy as np\n",
    "\n",
    "t = np.linspace(0, 200, 150)\n",
    "\n",
    "fig, (ax1, ax2) = plt.subplots(nrows=1, ncols=2, figsize=(16,6))\n",
    "\n",
    "ax1.plot(t, mean, 'g-', alpha=0.75, label='Mean')\n",
    "ax1.plot(t,  p10, 'b-', alpha=0.25)\n",
    "ax1.plot(t,  p90, 'b-', alpha=0.25)\n",
    "ax1.fill_between(\n",
    "  t,\n",
    "  p10,\n",
    "  p90,\n",
    "  alpha=0.25,\n",
    "  label='90% prediction interval')\n",
    "ax1.set_xlabel('Time (min)')\n",
    "ax1.set_ylabel('Temperature (°C)', color='b')\n",
    "ax1.tick_params('y', colors='b')\n",
    "ax1.legend()\n",
    "\n",
    "ax1t = ax1.twinx()\n",
    "ax1t.plot(t, std, 'r-', alpha=0.5)\n",
    "ax1t.set_ylabel('Standard deviation', color='r')\n",
    "ax1t.tick_params('y', colors='r')\n",
    "\n",
    "ax1.grid()\n",
    "ax1.set_title('Statistical Moments')\n",
    "\n",
    "ax2.plot(t, s1_kappa, '-', color ='#248BF2', label=r'$\\kappa$')\n",
    "ax2.plot(t, s1_t_env, '-', color ='#9402E8', alpha=0.6,label=r'$T_{env}$')\n",
    "\n",
    "ax2.set_xlabel('Time (min)')\n",
    "ax2.set_ylabel('First-order Sobol indices')\n",
    "ax2.set_title('Sensitivity Analysis')\n",
    "ax2.grid()\n",
    "ax2.legend()\n",
    "\n",
    "plt.subplots_adjust(wspace=0.35)\n",
    "\n",
    "plt.show()"
   ]
  },
  {
   "cell_type": "markdown",
   "metadata": {
    "colab_type": "text",
    "id": "HEk89mPtlOc4"
   },
   "source": [
    "These plots show the statistical moments (mean, variance, and 90% prediction interval) and the sensitivity analysis of the model to each parameter, expressed through the first-order Sobol indices."
   ]
  },
  {
   "cell_type": "code",
   "execution_count": 30,
   "metadata": {},
   "outputs": [
    {
     "data": {
      "text/plain": [
       "<AxesSubplot:xlabel='Time', ylabel='First Order Sobol Index'>"
      ]
     },
     "execution_count": 30,
     "metadata": {},
     "output_type": "execute_result"
    },
    {
     "data": {
      "image/png": "[encoded data removed]",
      "text/plain": [
       "<Figure size 432x288 with 1 Axes>"
      ]
     },
     "metadata": {
      "needs_background": "light"
     },
     "output_type": "display_data"
    },
    {
     "data": {
      "image/png": "[encoded data removed]",
      "text/plain": [
       "<Figure size 432x288 with 1 Axes>"
      ]
     },
     "metadata": {
      "needs_background": "light"
     },
     "output_type": "display_data"
    }
   ],
   "source": [
    "# Plots\n",
    "t = np.linspace(0, 200, 150)\n",
    "results.plot_moments(qoi=\"te\", ylabel=\"Temperature\", xlabel=\"Time\", alpha=0.2)\n",
    "results.plot_sobols_first(\n",
    "    qoi=\"te\", xlabel=\"Time\",\n",
    "    filename=os.path.join(campaign_work_dir, 'Te.png')\n",
    ")"
   ]
  },
  {
   "cell_type": "code",
   "execution_count": null,
   "metadata": {},
   "outputs": [],
   "source": []
  }
 ],
 "metadata": {
  "colab": {
   "collapsed_sections": [],
   "name": "EasyVVUQ - Cooling Coffee Cup Example",
   "provenance": []
  },
  "kernelspec": {
   "display_name": "Python 3",
   "language": "python",
   "name": "python3"
  },
  "language_info": {
   "codemirror_mode": {
    "name": "ipython",
    "version": 3
   },
   "file_extension": ".py",
   "mimetype": "text/x-python",
   "name": "python",
   "nbconvert_exporter": "python",
   "pygments_lexer": "ipython3",
   "version": "3.9.6"
  }
 },
 "nbformat": 4,
 "nbformat_minor": 4
}
